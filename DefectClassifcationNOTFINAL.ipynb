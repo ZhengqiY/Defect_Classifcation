{
  "nbformat": 4,
  "nbformat_minor": 0,
  "metadata": {
    "colab": {
      "name": "Homework2.ipynb",
      "provenance": [],
      "collapsed_sections": []
    },
    "kernelspec": {
      "name": "python3",
      "display_name": "Python 3"
    },
    "accelerator": "GPU"
  },
  "cells": [
    {
      "cell_type": "code",
      "metadata": {
        "id": "i1fzAUUjWcD4",
        "colab_type": "code",
        "outputId": "db5a7ea4-bcec-41c2-d742-6afbc7c06726",
        "colab": {
          "base_uri": "https://localhost:8080/",
          "height": 122
        }
      },
      "source": [
        "from google.colab import drive\n",
        "drive.mount('/content/drive')"
      ],
      "execution_count": 2,
      "outputs": [
        {
          "output_type": "stream",
          "text": [
            "Go to this URL in a browser: https://accounts.google.com/o/oauth2/auth?client_id=947318989803-6bn6qk8qdgf4n4g3pfee6491hc0brc4i.apps.googleusercontent.com&redirect_uri=urn%3aietf%3awg%3aoauth%3a2.0%3aoob&response_type=code&scope=email%20https%3a%2f%2fwww.googleapis.com%2fauth%2fdocs.test%20https%3a%2f%2fwww.googleapis.com%2fauth%2fdrive%20https%3a%2f%2fwww.googleapis.com%2fauth%2fdrive.photos.readonly%20https%3a%2f%2fwww.googleapis.com%2fauth%2fpeopleapi.readonly\n",
            "\n",
            "Enter your authorization code:\n",
            "··········\n",
            "Mounted at /content/drive\n"
          ],
          "name": "stdout"
        }
      ]
    },
    {
      "cell_type": "code",
      "metadata": {
        "id": "40HSbHM8Wzpn",
        "colab_type": "code",
        "outputId": "5447b17f-1013-486a-837d-704f9dec6fdd",
        "colab": {
          "base_uri": "https://localhost:8080/",
          "height": 80
        }
      },
      "source": [
        "import numpy as np\n",
        "from google.colab import files\n",
        "from sklearn.preprocessing import OneHotEncoder\n",
        "from sklearn.model_selection import train_test_split\n",
        "from sklearn.metrics import confusion_matrix\n",
        "from sklearn.metrics import classification_report\n",
        "from keras.models import Sequential\n",
        "from keras.layers import Input, Dense, Activation, Conv2D, MaxPooling2D, Dropout, Flatten, BatchNormalization\n",
        "from keras import optimizers\n",
        "from keras import losses\n",
        "from keras.callbacks import ModelCheckpoint\n",
        "from keras.preprocessing.image import ImageDataGenerator\n",
        "from matplotlib import pyplot"
      ],
      "execution_count": 3,
      "outputs": [
        {
          "output_type": "stream",
          "text": [
            "Using TensorFlow backend.\n"
          ],
          "name": "stderr"
        },
        {
          "output_type": "display_data",
          "data": {
            "text/html": [
              "<p style=\"color: red;\">\n",
              "The default version of TensorFlow in Colab will soon switch to TensorFlow 2.x.<br>\n",
              "We recommend you <a href=\"https://www.tensorflow.org/guide/migrate\" target=\"_blank\">upgrade</a> now \n",
              "or ensure your notebook will continue to use TensorFlow 1.x via the <code>%tensorflow_version 1.x</code> magic:\n",
              "<a href=\"https://colab.research.google.com/notebooks/tensorflow_version.ipynb\" target=\"_blank\">more info</a>.</p>\n"
            ],
            "text/plain": [
              "<IPython.core.display.HTML object>"
            ]
          },
          "metadata": {
            "tags": []
          }
        }
      ]
    },
    {
      "cell_type": "code",
      "metadata": {
        "id": "HBL-cOEkc_ci",
        "colab_type": "code",
        "outputId": "5d60ffd1-2472-4fb7-b343-e065d4513f66",
        "colab": {
          "resources": {
            "http://localhost:8080/nbextensions/google.colab/files.js": {
              "data": "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",
              "ok": true,
              "headers": [
                [
                  "content-type",
                  "application/javascript"
                ]
              ],
              "status": 200,
              "status_text": ""
            }
          },
          "base_uri": "https://localhost:8080/",
          "height": 139
        }
      },
      "source": [
        "uploaded = files.upload()"
      ],
      "execution_count": 4,
      "outputs": [
        {
          "output_type": "display_data",
          "data": {
            "text/html": [
              "\n",
              "     <input type=\"file\" id=\"files-85a7cab8-d6ad-43e2-adae-0109a499f0ba\" name=\"files[]\" multiple disabled />\n",
              "     <output id=\"result-85a7cab8-d6ad-43e2-adae-0109a499f0ba\">\n",
              "      Upload widget is only available when the cell has been executed in the\n",
              "      current browser session. Please rerun this cell to enable.\n",
              "      </output>\n",
              "      <script src=\"/nbextensions/google.colab/files.js\"></script> "
            ],
            "text/plain": [
              "<IPython.core.display.HTML object>"
            ]
          },
          "metadata": {
            "tags": []
          }
        },
        {
          "output_type": "stream",
          "text": [
            "Saving test_data.npy to test_data.npy\n",
            "Saving train_data.npy to train_data.npy\n",
            "Saving train_label.npy to train_label.npy\n"
          ],
          "name": "stdout"
        }
      ]
    },
    {
      "cell_type": "code",
      "metadata": {
        "id": "7OvnB7eqekSu",
        "colab_type": "code",
        "colab": {}
      },
      "source": [
        "# load dataset\n",
        "train_x = np.load('train_data.npy')\n",
        "train_x = train_x.reshape(400,64,64,1)\n",
        "train_y = np.load('train_label.npy')"
      ],
      "execution_count": 0,
      "outputs": []
    },
    {
      "cell_type": "code",
      "metadata": {
        "id": "7skwDYGVexLL",
        "colab_type": "code",
        "colab": {}
      },
      "source": [
        "# Preprocessing Training label set Y\n",
        "\n",
        "\n",
        "def prepare_labels(labels):\n",
        "    ohe = OneHotEncoder()\n",
        "    # reshape labels to be 2D array\n",
        "    labels = labels.reshape(len(labels),1)\n",
        "    ohe.fit(labels)\n",
        "    labels_enc = ohe.transform(labels).toarray()\n",
        "    return labels_enc\n",
        "\n",
        "\n",
        "y_processed = prepare_labels(train_y)"
      ],
      "execution_count": 0,
      "outputs": []
    },
    {
      "cell_type": "code",
      "metadata": {
        "id": "bFeiDCebe3GH",
        "colab_type": "code",
        "colab": {}
      },
      "source": [
        "# Split Training set and validation set\n",
        "\n",
        "x_train, x_vali, y_train, y_true = train_test_split(train_x,  \\\n",
        "                                y_processed, test_size = 0.3)"
      ],
      "execution_count": 0,
      "outputs": []
    },
    {
      "cell_type": "code",
      "metadata": {
        "id": "_lDTSdRxatxD",
        "colab_type": "code",
        "colab": {}
      },
      "source": [
        "# create image data augmentation generator\n",
        "datagen = ImageDataGenerator(shear_range=1)\n",
        "#datagen.fit(x_train)"
      ],
      "execution_count": 0,
      "outputs": []
    },
    {
      "cell_type": "code",
      "metadata": {
        "id": "O8XABLtM5ijr",
        "colab_type": "code",
        "colab": {
          "base_uri": "https://localhost:8080/",
          "height": 269
        },
        "outputId": "685b3718-7b09-4e03-9ada-bd6409a0134f"
      },
      "source": [
        "pyplot.imshow(x_train[11].reshape(64, 64), cmap=pyplot.get_cmap('gray'))\n",
        "\n",
        "for X_batch, y_batch in datagen.flow(x_train, y_train, batch_size=9):\n",
        "\t# create a grid of 3x3 images\n",
        "\tfor i in range(0, 9):\n",
        "\t\tpyplot.subplot(330 + 1 + i)\n",
        "\t\tpyplot.imshow(X_batch[i].reshape(64, 64), cmap=pyplot.get_cmap('gray'))\n",
        "\t# show the plot\n",
        "\tpyplot.show()\n",
        "\tbreak"
      ],
      "execution_count": 9,
      "outputs": [
        {
          "output_type": "display_data",
          "data": {
            "image/png": "[encoded data removed]",
            "text/plain": [
              "<Figure size 432x288 with 9 Axes>"
            ]
          },
          "metadata": {
            "tags": []
          }
        }
      ]
    },
    {
      "cell_type": "code",
      "metadata": {
        "id": "_Rs3oBEue6i0",
        "colab_type": "code",
        "outputId": "2a013726-9c78-4842-e79e-b36a2da930e5",
        "colab": {
          "base_uri": "https://localhost:8080/",
          "height": 1000
        }
      },
      "source": [
        "# Model\n",
        "\n",
        "model = Sequential()\n",
        "\n",
        "model.add(Conv2D(16,(3,3), input_shape=(64,64,1), strides=(1,1), padding='same', activation='relu',\n",
        "                 use_bias=True, kernel_initializer='RandomNormal', bias_initializer='RandomNormal'))\n",
        "model.add(MaxPooling2D(pool_size=(2,2), strides=None))\n",
        "model.add(Dropout(0.25))\n",
        "\n",
        "model.add(Conv2D(32,(3,3), strides=(1,1), padding='same', activation='relu',\n",
        "                 use_bias=True, kernel_initializer='RandomNormal', bias_initializer='RandomNormal'))\n",
        "model.add(MaxPooling2D(pool_size=(2,2), strides=None))\n",
        "model.add(Dropout(0.25))\n",
        "\n",
        "model.add(Conv2D(64,(3,3), strides=(1,1), padding='same', activation='relu',\n",
        "                 use_bias=True, kernel_initializer='RandomNormal', bias_initializer='RandomNormal'))\n",
        "model.add(MaxPooling2D(pool_size=(2,2), strides=None))\n",
        "model.add(Dropout(0.25))\n",
        "\n",
        "#model.add(Conv2D(64,(3,3), strides=(1,1), padding='same', activation='relu',\n",
        "#          use_bias=True, kernel_initializer='RandomNormal', bias_initializer='RandomNormal'))\n",
        "#model.add(MaxPooling2D(pool_size=(2,2), strides=None))\n",
        "#model.add(Dropout(0.25))\n",
        "#model.add(Conv2D(256,(3,3), strides=(1,1), padding='same', activation='relu'))\n",
        "#model.add(MaxPooling2D(pool_size=(2,2), strides=None))\n",
        "#model.add(Dropout(0.5))\n",
        "\n",
        "model.add(Flatten())\n",
        "model.add(Dense(64))\n",
        "model.add(Activation('relu'))\n",
        "model.add(Dropout(0.5))\n",
        "model.add(Dense(6, activation='softmax'))\n",
        "\n",
        "\n",
        "# Training and validating\n",
        "\n",
        "model.compile('rmsprop', 'categorical_crossentropy', metrics=['accuracy'],)\n",
        "filepath = \"weights-improvement-{epoch:02d}-{val_accuracy:.2f}.hdf5\"\n",
        "checkpoint = ModelCheckpoint(filepath, monitor='val_loss',verbose=1,save_best_only=True, mode='max')\n",
        "callbacks_list = [checkpoint]\n",
        "model.fit_generator(datagen.flow(x_train, y_train, batch_size=10), steps_per_epoch=len(x_train)/10,\n",
        "          epochs=150, verbose=1, validation_data=(x_vali,y_true))\n",
        "\n"
      ],
      "execution_count": 17,
      "outputs": [
        {
          "output_type": "stream",
          "text": [
            "Epoch 1/150\n",
            "28/28 [==============================] - 1s 24ms/step - loss: 1.1714 - acc: 0.7000 - val_loss: 0.9741 - val_acc: 0.7333\n",
            "Epoch 2/150\n",
            "28/28 [==============================] - 0s 7ms/step - loss: 0.8526 - acc: 0.7321 - val_loss: 0.5586 - val_acc: 0.7333\n",
            "Epoch 3/150\n",
            "28/28 [==============================] - 0s 10ms/step - loss: 0.5866 - acc: 0.7714 - val_loss: 0.4826 - val_acc: 0.8000\n",
            "Epoch 4/150\n",
            "28/28 [==============================] - 0s 10ms/step - loss: 0.5492 - acc: 0.7750 - val_loss: 0.4685 - val_acc: 0.8167\n",
            "Epoch 5/150\n",
            "28/28 [==============================] - 0s 8ms/step - loss: 0.4825 - acc: 0.7893 - val_loss: 0.4516 - val_acc: 0.8417\n",
            "Epoch 6/150\n",
            "28/28 [==============================] - 0s 9ms/step - loss: 0.4776 - acc: 0.8214 - val_loss: 0.4571 - val_acc: 0.7833\n",
            "Epoch 7/150\n",
            "28/28 [==============================] - 0s 9ms/step - loss: 0.4455 - acc: 0.8036 - val_loss: 0.4195 - val_acc: 0.8333\n",
            "Epoch 8/150\n",
            "28/28 [==============================] - 0s 8ms/step - loss: 0.4800 - acc: 0.8429 - val_loss: 0.4011 - val_acc: 0.8583\n",
            "Epoch 9/150\n",
            "28/28 [==============================] - 0s 8ms/step - loss: 0.4384 - acc: 0.8357 - val_loss: 1.7243 - val_acc: 0.1333\n",
            "Epoch 10/150\n",
            "28/28 [==============================] - 0s 8ms/step - loss: 0.4551 - acc: 0.8036 - val_loss: 0.3702 - val_acc: 0.8667\n",
            "Epoch 11/150\n",
            "28/28 [==============================] - 0s 8ms/step - loss: 0.3925 - acc: 0.8500 - val_loss: 0.4206 - val_acc: 0.7667\n",
            "Epoch 12/150\n",
            "28/28 [==============================] - 0s 8ms/step - loss: 0.3799 - acc: 0.8500 - val_loss: 0.3310 - val_acc: 0.8667\n",
            "Epoch 13/150\n",
            "28/28 [==============================] - 0s 10ms/step - loss: 0.3952 - acc: 0.8286 - val_loss: 0.3432 - val_acc: 0.8667\n",
            "Epoch 14/150\n",
            "28/28 [==============================] - 0s 9ms/step - loss: 0.3405 - acc: 0.8571 - val_loss: 0.3476 - val_acc: 0.8417\n",
            "Epoch 15/150\n",
            "28/28 [==============================] - 0s 9ms/step - loss: 0.3518 - acc: 0.8500 - val_loss: 0.2977 - val_acc: 0.8667\n",
            "Epoch 16/150\n",
            "28/28 [==============================] - 0s 9ms/step - loss: 0.3569 - acc: 0.8393 - val_loss: 0.3181 - val_acc: 0.8583\n",
            "Epoch 17/150\n",
            "28/28 [==============================] - 0s 9ms/step - loss: 0.3216 - acc: 0.8607 - val_loss: 0.2860 - val_acc: 0.8917\n",
            "Epoch 18/150\n",
            "28/28 [==============================] - 0s 9ms/step - loss: 0.3573 - acc: 0.8464 - val_loss: 0.2705 - val_acc: 0.8917\n",
            "Epoch 19/150\n",
            "28/28 [==============================] - 0s 9ms/step - loss: 0.3211 - acc: 0.8786 - val_loss: 0.2531 - val_acc: 0.9167\n",
            "Epoch 20/150\n",
            "28/28 [==============================] - 0s 10ms/step - loss: 0.3302 - acc: 0.8500 - val_loss: 0.2646 - val_acc: 0.9000\n",
            "Epoch 21/150\n",
            "28/28 [==============================] - 0s 11ms/step - loss: 0.3481 - acc: 0.8679 - val_loss: 0.2703 - val_acc: 0.8833\n",
            "Epoch 22/150\n",
            "28/28 [==============================] - 0s 13ms/step - loss: 0.3005 - acc: 0.8607 - val_loss: 0.2448 - val_acc: 0.9083\n",
            "Epoch 23/150\n",
            "28/28 [==============================] - 0s 9ms/step - loss: 0.3444 - acc: 0.8643 - val_loss: 0.2376 - val_acc: 0.8833\n",
            "Epoch 24/150\n",
            "28/28 [==============================] - 0s 10ms/step - loss: 0.2681 - acc: 0.8857 - val_loss: 0.2256 - val_acc: 0.9167\n",
            "Epoch 25/150\n",
            "28/28 [==============================] - 0s 9ms/step - loss: 0.2940 - acc: 0.8786 - val_loss: 0.2267 - val_acc: 0.9083\n",
            "Epoch 26/150\n",
            "28/28 [==============================] - 0s 8ms/step - loss: 0.2495 - acc: 0.8893 - val_loss: 0.2492 - val_acc: 0.9000\n",
            "Epoch 27/150\n",
            "28/28 [==============================] - 0s 8ms/step - loss: 0.4261 - acc: 0.9036 - val_loss: 0.2277 - val_acc: 0.9083\n",
            "Epoch 28/150\n",
            "28/28 [==============================] - 0s 8ms/step - loss: 0.2479 - acc: 0.8893 - val_loss: 0.2100 - val_acc: 0.9083\n",
            "Epoch 29/150\n",
            "28/28 [==============================] - 0s 8ms/step - loss: 0.2070 - acc: 0.9143 - val_loss: 0.1964 - val_acc: 0.9250\n",
            "Epoch 30/150\n",
            "28/28 [==============================] - 0s 8ms/step - loss: 0.2545 - acc: 0.8929 - val_loss: 0.2276 - val_acc: 0.9333\n",
            "Epoch 31/150\n",
            "28/28 [==============================] - 0s 8ms/step - loss: 0.2339 - acc: 0.8929 - val_loss: 0.2015 - val_acc: 0.9167\n",
            "Epoch 32/150\n",
            "28/28 [==============================] - 0s 8ms/step - loss: 0.2233 - acc: 0.9071 - val_loss: 0.2105 - val_acc: 0.9167\n",
            "Epoch 33/150\n",
            "28/28 [==============================] - 0s 9ms/step - loss: 0.2804 - acc: 0.9107 - val_loss: 0.1984 - val_acc: 0.9333\n",
            "Epoch 34/150\n",
            "28/28 [==============================] - 0s 9ms/step - loss: 0.2637 - acc: 0.8857 - val_loss: 0.2462 - val_acc: 0.9000\n",
            "Epoch 35/150\n",
            "28/28 [==============================] - 0s 9ms/step - loss: 0.1958 - acc: 0.9143 - val_loss: 0.1846 - val_acc: 0.9167\n",
            "Epoch 36/150\n",
            "28/28 [==============================] - 0s 9ms/step - loss: 0.2001 - acc: 0.9143 - val_loss: 0.2326 - val_acc: 0.8917\n",
            "Epoch 37/150\n",
            "28/28 [==============================] - 0s 9ms/step - loss: 0.2272 - acc: 0.9214 - val_loss: 0.1626 - val_acc: 0.9333\n",
            "Epoch 38/150\n",
            "28/28 [==============================] - 0s 10ms/step - loss: 0.1551 - acc: 0.9357 - val_loss: 0.1452 - val_acc: 0.9500\n",
            "Epoch 39/150\n",
            "28/28 [==============================] - 0s 8ms/step - loss: 0.1656 - acc: 0.9393 - val_loss: 0.1457 - val_acc: 0.9333\n",
            "Epoch 40/150\n",
            "28/28 [==============================] - 0s 9ms/step - loss: 0.2533 - acc: 0.9143 - val_loss: 0.1198 - val_acc: 0.9583\n",
            "Epoch 41/150\n",
            "28/28 [==============================] - 0s 9ms/step - loss: 0.1247 - acc: 0.9607 - val_loss: 0.1103 - val_acc: 0.9583\n",
            "Epoch 42/150\n",
            "28/28 [==============================] - 0s 9ms/step - loss: 0.1652 - acc: 0.9321 - val_loss: 0.1149 - val_acc: 0.9500\n",
            "Epoch 43/150\n",
            "28/28 [==============================] - 0s 9ms/step - loss: 0.2036 - acc: 0.9286 - val_loss: 0.1112 - val_acc: 0.9583\n",
            "Epoch 44/150\n",
            "28/28 [==============================] - 0s 9ms/step - loss: 0.1815 - acc: 0.9321 - val_loss: 0.0922 - val_acc: 0.9750\n",
            "Epoch 45/150\n",
            "28/28 [==============================] - 0s 9ms/step - loss: 0.1842 - acc: 0.9393 - val_loss: 0.1051 - val_acc: 0.9750\n",
            "Epoch 46/150\n",
            "28/28 [==============================] - 0s 8ms/step - loss: 0.1158 - acc: 0.9679 - val_loss: 0.1544 - val_acc: 0.9250\n",
            "Epoch 47/150\n",
            "28/28 [==============================] - 0s 9ms/step - loss: 0.2017 - acc: 0.9286 - val_loss: 0.0946 - val_acc: 0.9583\n",
            "Epoch 48/150\n",
            "28/28 [==============================] - 0s 9ms/step - loss: 0.1477 - acc: 0.9464 - val_loss: 0.0938 - val_acc: 0.9667\n",
            "Epoch 49/150\n",
            "28/28 [==============================] - 0s 9ms/step - loss: 0.1106 - acc: 0.9571 - val_loss: 0.0815 - val_acc: 0.9667\n",
            "Epoch 50/150\n",
            "28/28 [==============================] - 0s 9ms/step - loss: 0.1244 - acc: 0.9393 - val_loss: 0.0950 - val_acc: 0.9833\n",
            "Epoch 51/150\n",
            "28/28 [==============================] - 0s 8ms/step - loss: 0.1351 - acc: 0.9464 - val_loss: 0.0759 - val_acc: 0.9750\n",
            "Epoch 52/150\n",
            "28/28 [==============================] - 0s 9ms/step - loss: 0.1077 - acc: 0.9536 - val_loss: 0.0909 - val_acc: 0.9667\n",
            "Epoch 53/150\n",
            "28/28 [==============================] - 0s 10ms/step - loss: 0.1071 - acc: 0.9536 - val_loss: 0.0717 - val_acc: 0.9750\n",
            "Epoch 54/150\n",
            "28/28 [==============================] - 0s 10ms/step - loss: 0.1269 - acc: 0.9429 - val_loss: 0.1010 - val_acc: 0.9583\n",
            "Epoch 55/150\n",
            "28/28 [==============================] - 0s 9ms/step - loss: 0.0986 - acc: 0.9643 - val_loss: 0.0698 - val_acc: 0.9667\n",
            "Epoch 56/150\n",
            "28/28 [==============================] - 0s 9ms/step - loss: 0.1248 - acc: 0.9464 - val_loss: 0.0744 - val_acc: 0.9667\n",
            "Epoch 57/150\n",
            "28/28 [==============================] - 0s 9ms/step - loss: 0.1243 - acc: 0.9536 - val_loss: 0.0705 - val_acc: 0.9667\n",
            "Epoch 58/150\n",
            "28/28 [==============================] - 0s 9ms/step - loss: 0.0897 - acc: 0.9643 - val_loss: 0.0698 - val_acc: 0.9750\n",
            "Epoch 59/150\n",
            "28/28 [==============================] - 0s 8ms/step - loss: 0.1100 - acc: 0.9571 - val_loss: 0.0692 - val_acc: 0.9750\n",
            "Epoch 60/150\n",
            "28/28 [==============================] - 0s 9ms/step - loss: 0.1294 - acc: 0.9643 - val_loss: 0.0562 - val_acc: 0.9667\n",
            "Epoch 61/150\n",
            "28/28 [==============================] - 0s 8ms/step - loss: 0.0663 - acc: 0.9750 - val_loss: 0.0499 - val_acc: 0.9750\n",
            "Epoch 62/150\n",
            "28/28 [==============================] - 0s 8ms/step - loss: 0.0637 - acc: 0.9786 - val_loss: 0.0697 - val_acc: 0.9667\n",
            "Epoch 63/150\n",
            "28/28 [==============================] - 0s 9ms/step - loss: 0.1345 - acc: 0.9500 - val_loss: 0.0956 - val_acc: 0.9500\n",
            "Epoch 64/150\n",
            "28/28 [==============================] - 0s 9ms/step - loss: 0.0754 - acc: 0.9857 - val_loss: 0.0588 - val_acc: 0.9750\n",
            "Epoch 65/150\n",
            "28/28 [==============================] - 0s 10ms/step - loss: 0.0848 - acc: 0.9679 - val_loss: 0.0538 - val_acc: 0.9833\n",
            "Epoch 66/150\n",
            "28/28 [==============================] - 0s 10ms/step - loss: 0.0670 - acc: 0.9679 - val_loss: 0.0762 - val_acc: 0.9583\n",
            "Epoch 67/150\n",
            "28/28 [==============================] - 0s 8ms/step - loss: 0.1175 - acc: 0.9536 - val_loss: 0.0946 - val_acc: 0.9500\n",
            "Epoch 68/150\n",
            "28/28 [==============================] - 0s 9ms/step - loss: 0.0876 - acc: 0.9750 - val_loss: 0.0541 - val_acc: 0.9750\n",
            "Epoch 69/150\n",
            "28/28 [==============================] - 0s 9ms/step - loss: 0.0590 - acc: 0.9786 - val_loss: 0.1196 - val_acc: 0.9583\n",
            "Epoch 70/150\n",
            "28/28 [==============================] - 0s 8ms/step - loss: 0.0607 - acc: 0.9821 - val_loss: 0.0469 - val_acc: 0.9750\n",
            "Epoch 71/150\n",
            "28/28 [==============================] - 0s 9ms/step - loss: 0.0701 - acc: 0.9786 - val_loss: 0.0545 - val_acc: 0.9750\n",
            "Epoch 72/150\n",
            "28/28 [==============================] - 0s 9ms/step - loss: 0.0614 - acc: 0.9750 - val_loss: 0.0544 - val_acc: 0.9750\n",
            "Epoch 73/150\n",
            "28/28 [==============================] - 0s 9ms/step - loss: 0.0585 - acc: 0.9786 - val_loss: 0.0414 - val_acc: 0.9833\n",
            "Epoch 74/150\n",
            "28/28 [==============================] - 0s 10ms/step - loss: 0.1215 - acc: 0.9607 - val_loss: 0.0582 - val_acc: 0.9750\n",
            "Epoch 75/150\n",
            "28/28 [==============================] - 0s 8ms/step - loss: 0.0796 - acc: 0.9714 - val_loss: 0.0510 - val_acc: 0.9750\n",
            "Epoch 76/150\n",
            "28/28 [==============================] - 0s 9ms/step - loss: 0.0515 - acc: 0.9714 - val_loss: 0.0522 - val_acc: 0.9750\n",
            "Epoch 77/150\n",
            "28/28 [==============================] - 0s 12ms/step - loss: 0.0715 - acc: 0.9821 - val_loss: 0.2367 - val_acc: 0.9417\n",
            "Epoch 78/150\n",
            "28/28 [==============================] - 0s 13ms/step - loss: 0.0507 - acc: 0.9750 - val_loss: 0.0578 - val_acc: 0.9833\n",
            "Epoch 79/150\n",
            "28/28 [==============================] - 0s 9ms/step - loss: 0.0662 - acc: 0.9750 - val_loss: 0.0739 - val_acc: 0.9500\n",
            "Epoch 80/150\n",
            "28/28 [==============================] - 0s 9ms/step - loss: 0.0648 - acc: 0.9714 - val_loss: 0.1101 - val_acc: 0.9417\n",
            "Epoch 81/150\n",
            "28/28 [==============================] - 0s 9ms/step - loss: 0.0361 - acc: 0.9821 - val_loss: 0.0863 - val_acc: 0.9500\n",
            "Epoch 82/150\n",
            "28/28 [==============================] - 0s 9ms/step - loss: 0.0428 - acc: 0.9893 - val_loss: 0.1032 - val_acc: 0.9583\n",
            "Epoch 83/150\n",
            "28/28 [==============================] - 0s 10ms/step - loss: 0.1256 - acc: 0.9714 - val_loss: 0.0513 - val_acc: 0.9750\n",
            "Epoch 84/150\n",
            "28/28 [==============================] - 0s 9ms/step - loss: 0.0336 - acc: 0.9893 - val_loss: 0.1349 - val_acc: 0.9500\n",
            "Epoch 85/150\n",
            "28/28 [==============================] - 0s 10ms/step - loss: 0.0630 - acc: 0.9786 - val_loss: 0.0882 - val_acc: 0.9667\n",
            "Epoch 86/150\n",
            "28/28 [==============================] - 0s 10ms/step - loss: 0.0421 - acc: 0.9821 - val_loss: 0.0680 - val_acc: 0.9583\n",
            "Epoch 87/150\n",
            "28/28 [==============================] - 0s 8ms/step - loss: 0.0517 - acc: 0.9786 - val_loss: 0.0595 - val_acc: 0.9667\n",
            "Epoch 88/150\n",
            "28/28 [==============================] - 0s 10ms/step - loss: 0.0509 - acc: 0.9857 - val_loss: 0.0608 - val_acc: 0.9833\n",
            "Epoch 89/150\n",
            "28/28 [==============================] - 0s 10ms/step - loss: 0.0185 - acc: 0.9964 - val_loss: 0.0955 - val_acc: 0.9583\n",
            "Epoch 90/150\n",
            "28/28 [==============================] - 0s 11ms/step - loss: 0.0401 - acc: 0.9857 - val_loss: 0.0590 - val_acc: 0.9833\n",
            "Epoch 91/150\n",
            "28/28 [==============================] - 0s 9ms/step - loss: 0.0906 - acc: 0.9821 - val_loss: 0.0472 - val_acc: 0.9750\n",
            "Epoch 92/150\n",
            "28/28 [==============================] - 0s 9ms/step - loss: 0.0916 - acc: 0.9929 - val_loss: 0.0747 - val_acc: 0.9667\n",
            "Epoch 93/150\n",
            "28/28 [==============================] - 0s 9ms/step - loss: 0.0277 - acc: 0.9929 - val_loss: 0.1366 - val_acc: 0.9417\n",
            "Epoch 94/150\n",
            "28/28 [==============================] - 0s 9ms/step - loss: 0.0247 - acc: 0.9857 - val_loss: 0.0441 - val_acc: 0.9833\n",
            "Epoch 95/150\n",
            "28/28 [==============================] - 0s 9ms/step - loss: 0.0341 - acc: 0.9857 - val_loss: 0.0497 - val_acc: 0.9667\n",
            "Epoch 96/150\n",
            "28/28 [==============================] - 0s 9ms/step - loss: 0.0146 - acc: 0.9964 - val_loss: 0.0547 - val_acc: 0.9667\n",
            "Epoch 97/150\n",
            "28/28 [==============================] - 0s 9ms/step - loss: 0.0937 - acc: 0.9750 - val_loss: 0.0613 - val_acc: 0.9833\n",
            "Epoch 98/150\n",
            "28/28 [==============================] - 0s 8ms/step - loss: 0.0268 - acc: 0.9929 - val_loss: 0.0468 - val_acc: 0.9833\n",
            "Epoch 99/150\n",
            "28/28 [==============================] - 0s 8ms/step - loss: 0.0885 - acc: 0.9857 - val_loss: 0.1287 - val_acc: 0.9583\n",
            "Epoch 100/150\n",
            "28/28 [==============================] - 0s 9ms/step - loss: 0.0301 - acc: 0.9821 - val_loss: 0.1113 - val_acc: 0.9583\n",
            "Epoch 101/150\n",
            "28/28 [==============================] - 0s 9ms/step - loss: 0.0492 - acc: 0.9893 - val_loss: 0.0753 - val_acc: 0.9833\n",
            "Epoch 102/150\n",
            "28/28 [==============================] - 0s 9ms/step - loss: 0.0405 - acc: 0.9821 - val_loss: 0.0580 - val_acc: 0.9750\n",
            "Epoch 103/150\n",
            "28/28 [==============================] - 0s 9ms/step - loss: 0.0420 - acc: 0.9929 - val_loss: 0.0977 - val_acc: 0.9667\n",
            "Epoch 104/150\n",
            "28/28 [==============================] - 0s 10ms/step - loss: 0.0192 - acc: 0.9929 - val_loss: 0.0770 - val_acc: 0.9750\n",
            "Epoch 105/150\n",
            "28/28 [==============================] - 0s 11ms/step - loss: 0.0631 - acc: 0.9857 - val_loss: 0.0702 - val_acc: 0.9833\n",
            "Epoch 106/150\n",
            "28/28 [==============================] - 0s 11ms/step - loss: 0.0083 - acc: 0.9964 - val_loss: 0.0539 - val_acc: 0.9750\n",
            "Epoch 107/150\n",
            "28/28 [==============================] - 0s 9ms/step - loss: 0.0969 - acc: 0.9750 - val_loss: 0.0722 - val_acc: 0.9833\n",
            "Epoch 108/150\n",
            "28/28 [==============================] - 0s 10ms/step - loss: 0.0136 - acc: 0.9929 - val_loss: 0.0661 - val_acc: 0.9833\n",
            "Epoch 109/150\n",
            "28/28 [==============================] - 0s 10ms/step - loss: 0.0112 - acc: 0.9964 - val_loss: 0.1890 - val_acc: 0.9583\n",
            "Epoch 110/150\n",
            "28/28 [==============================] - 0s 9ms/step - loss: 0.0304 - acc: 0.9893 - val_loss: 0.1231 - val_acc: 0.9833\n",
            "Epoch 111/150\n",
            "28/28 [==============================] - 0s 11ms/step - loss: 0.0125 - acc: 0.9964 - val_loss: 0.0786 - val_acc: 0.9750\n",
            "Epoch 112/150\n",
            "28/28 [==============================] - 0s 10ms/step - loss: 0.0393 - acc: 0.9857 - val_loss: 0.1039 - val_acc: 0.9750\n",
            "Epoch 113/150\n",
            "28/28 [==============================] - 0s 10ms/step - loss: 0.0485 - acc: 0.9893 - val_loss: 0.2238 - val_acc: 0.9500\n",
            "Epoch 114/150\n",
            "28/28 [==============================] - 0s 9ms/step - loss: 0.0137 - acc: 0.9964 - val_loss: 0.1020 - val_acc: 0.9750\n",
            "Epoch 115/150\n",
            "28/28 [==============================] - 0s 9ms/step - loss: 0.0073 - acc: 0.9964 - val_loss: 0.1722 - val_acc: 0.9667\n",
            "Epoch 116/150\n",
            "28/28 [==============================] - 0s 8ms/step - loss: 0.1130 - acc: 0.9786 - val_loss: 0.1686 - val_acc: 0.9750\n",
            "Epoch 117/150\n",
            "28/28 [==============================] - 0s 9ms/step - loss: 0.0130 - acc: 0.9964 - val_loss: 0.2602 - val_acc: 0.9417\n",
            "Epoch 118/150\n",
            "28/28 [==============================] - 0s 9ms/step - loss: 0.0117 - acc: 0.9964 - val_loss: 0.1125 - val_acc: 0.9833\n",
            "Epoch 119/150\n",
            "28/28 [==============================] - 0s 10ms/step - loss: 0.0555 - acc: 0.9929 - val_loss: 0.1946 - val_acc: 0.9583\n",
            "Epoch 120/150\n",
            "28/28 [==============================] - 0s 9ms/step - loss: 0.0633 - acc: 0.9857 - val_loss: 0.0755 - val_acc: 0.9750\n",
            "Epoch 121/150\n",
            "28/28 [==============================] - 0s 10ms/step - loss: 0.0244 - acc: 0.9893 - val_loss: 0.1673 - val_acc: 0.9583\n",
            "Epoch 122/150\n",
            "28/28 [==============================] - 0s 9ms/step - loss: 0.0814 - acc: 0.9821 - val_loss: 0.2853 - val_acc: 0.9333\n",
            "Epoch 123/150\n",
            "28/28 [==============================] - 0s 10ms/step - loss: 0.0332 - acc: 0.9893 - val_loss: 0.0788 - val_acc: 0.9833\n",
            "Epoch 124/150\n",
            "28/28 [==============================] - 0s 9ms/step - loss: 0.0264 - acc: 0.9857 - val_loss: 0.1073 - val_acc: 0.9833\n",
            "Epoch 125/150\n",
            "28/28 [==============================] - 0s 8ms/step - loss: 0.0519 - acc: 0.9786 - val_loss: 0.0783 - val_acc: 0.9750\n",
            "Epoch 126/150\n",
            "28/28 [==============================] - 0s 8ms/step - loss: 0.0140 - acc: 0.9964 - val_loss: 0.1073 - val_acc: 0.9833\n",
            "Epoch 127/150\n",
            "28/28 [==============================] - 0s 8ms/step - loss: 0.0311 - acc: 0.9893 - val_loss: 0.1200 - val_acc: 0.9833\n",
            "Epoch 128/150\n",
            "28/28 [==============================] - 0s 9ms/step - loss: 0.0810 - acc: 0.9786 - val_loss: 0.1090 - val_acc: 0.9750\n",
            "Epoch 129/150\n",
            "28/28 [==============================] - 0s 9ms/step - loss: 0.0275 - acc: 0.9893 - val_loss: 0.0850 - val_acc: 0.9583\n",
            "Epoch 130/150\n",
            "28/28 [==============================] - 0s 9ms/step - loss: 0.0252 - acc: 0.9929 - val_loss: 0.0715 - val_acc: 0.9583\n",
            "Epoch 131/150\n",
            "28/28 [==============================] - 0s 9ms/step - loss: 0.0138 - acc: 0.9929 - val_loss: 0.1250 - val_acc: 0.9833\n",
            "Epoch 132/150\n",
            "28/28 [==============================] - 0s 10ms/step - loss: 0.0038 - acc: 1.0000 - val_loss: 0.3410 - val_acc: 0.9417\n",
            "Epoch 133/150\n",
            "28/28 [==============================] - 0s 8ms/step - loss: 0.0793 - acc: 0.9893 - val_loss: 0.0899 - val_acc: 0.9750\n",
            "Epoch 134/150\n",
            "28/28 [==============================] - 0s 8ms/step - loss: 0.0318 - acc: 0.9893 - val_loss: 0.1186 - val_acc: 0.9750\n",
            "Epoch 135/150\n",
            "28/28 [==============================] - 0s 8ms/step - loss: 0.0176 - acc: 0.9929 - val_loss: 0.1479 - val_acc: 0.9750\n",
            "Epoch 136/150\n",
            "28/28 [==============================] - 0s 9ms/step - loss: 0.0971 - acc: 0.9857 - val_loss: 0.2655 - val_acc: 0.9250\n",
            "Epoch 137/150\n",
            "28/28 [==============================] - 0s 8ms/step - loss: 0.0138 - acc: 0.9929 - val_loss: 0.1487 - val_acc: 0.9750\n",
            "Epoch 138/150\n",
            "28/28 [==============================] - 0s 10ms/step - loss: 0.0144 - acc: 0.9964 - val_loss: 0.1527 - val_acc: 0.9583\n",
            "Epoch 139/150\n",
            "28/28 [==============================] - 0s 9ms/step - loss: 0.0396 - acc: 0.9929 - val_loss: 1.6615 - val_acc: 0.4417\n",
            "Epoch 140/150\n",
            "28/28 [==============================] - 0s 10ms/step - loss: 0.0194 - acc: 0.9857 - val_loss: 0.1238 - val_acc: 0.9750\n",
            "Epoch 141/150\n",
            "28/28 [==============================] - 0s 8ms/step - loss: 0.0331 - acc: 0.9893 - val_loss: 0.1212 - val_acc: 0.9750\n",
            "Epoch 142/150\n",
            "28/28 [==============================] - 0s 9ms/step - loss: 0.0189 - acc: 0.9893 - val_loss: 0.1164 - val_acc: 0.9667\n",
            "Epoch 143/150\n",
            "28/28 [==============================] - 0s 10ms/step - loss: 0.0164 - acc: 0.9929 - val_loss: 0.1278 - val_acc: 0.9833\n",
            "Epoch 144/150\n",
            "28/28 [==============================] - 0s 10ms/step - loss: 0.0704 - acc: 0.9857 - val_loss: 0.2104 - val_acc: 0.9667\n",
            "Epoch 145/150\n",
            "28/28 [==============================] - 0s 8ms/step - loss: 0.0504 - acc: 0.9893 - val_loss: 0.1693 - val_acc: 0.9667\n",
            "Epoch 146/150\n",
            "28/28 [==============================] - 0s 8ms/step - loss: 0.0463 - acc: 0.9786 - val_loss: 0.1651 - val_acc: 0.9667\n",
            "Epoch 147/150\n",
            "28/28 [==============================] - 0s 8ms/step - loss: 0.0390 - acc: 0.9857 - val_loss: 0.1360 - val_acc: 0.9750\n",
            "Epoch 148/150\n",
            "28/28 [==============================] - 0s 9ms/step - loss: 0.0364 - acc: 0.9857 - val_loss: 0.1890 - val_acc: 0.9667\n",
            "Epoch 149/150\n",
            "28/28 [==============================] - 0s 8ms/step - loss: 0.0150 - acc: 0.9964 - val_loss: 0.2156 - val_acc: 0.9500\n",
            "Epoch 150/150\n",
            "28/28 [==============================] - 0s 8ms/step - loss: 0.0141 - acc: 0.9929 - val_loss: 0.1483 - val_acc: 0.9833\n"
          ],
          "name": "stdout"
        },
        {
          "output_type": "execute_result",
          "data": {
            "text/plain": [
              "<keras.callbacks.History at 0x7f8681407eb8>"
            ]
          },
          "metadata": {
            "tags": []
          },
          "execution_count": 17
        }
      ]
    },
    {
      "cell_type": "code",
      "metadata": {
        "id": "lHEbBU_pUX2N",
        "colab_type": "code",
        "colab": {
          "base_uri": "https://localhost:8080/",
          "height": 119
        },
        "outputId": "13bb32c7-36c7-407c-9bb8-628ede3661bc"
      },
      "source": [
        "# Confusion Matrix\n",
        "\n",
        "y_pred = model.predict(x_vali)\n",
        "y_pred_cm = y_pred.argmax(axis=1)\n",
        "y_true_cm = y_true.argmax(axis=1)\n",
        "confusion_matrix(y_true_cm, y_pred_cm)"
      ],
      "execution_count": 18,
      "outputs": [
        {
          "output_type": "execute_result",
          "data": {
            "text/plain": [
              "array([[ 9,  0,  0,  2,  0,  0],\n",
              "       [ 0,  4,  0,  0,  0,  0],\n",
              "       [ 0,  0,  6,  0,  0,  0],\n",
              "       [ 0,  0,  0,  5,  0,  0],\n",
              "       [ 0,  0,  0,  0, 88,  0],\n",
              "       [ 0,  0,  0,  0,  0,  6]])"
            ]
          },
          "metadata": {
            "tags": []
          },
          "execution_count": 18
        }
      ]
    },
    {
      "cell_type": "code",
      "metadata": {
        "id": "5gU233rpVoxs",
        "colab_type": "code",
        "colab": {
          "base_uri": "https://localhost:8080/",
          "height": 238
        },
        "outputId": "0beb44f9-0fdc-4621-c6bf-0c89174cdbb3"
      },
      "source": [
        "# Classification Report\n",
        "target_names = list(np.unique(train_y))\n",
        "print(classification_report(y_true_cm, y_pred_cm, target_names=target_names))"
      ],
      "execution_count": 19,
      "outputs": [
        {
          "output_type": "stream",
          "text": [
            "              precision    recall  f1-score   support\n",
            "\n",
            "       crack       1.00      0.82      0.90        11\n",
            "      deform       1.00      1.00      1.00         4\n",
            "        edge       1.00      1.00      1.00         6\n",
            "      nodule       0.71      1.00      0.83         5\n",
            "        pass       1.00      1.00      1.00        88\n",
            "  total_loss       1.00      1.00      1.00         6\n",
            "\n",
            "    accuracy                           0.98       120\n",
            "   macro avg       0.95      0.97      0.96       120\n",
            "weighted avg       0.99      0.98      0.98       120\n",
            "\n"
          ],
          "name": "stdout"
        }
      ]
    },
    {
      "cell_type": "code",
      "metadata": {
        "id": "mbuap4EWocd8",
        "colab_type": "code",
        "colab": {}
      },
      "source": [
        "model.save_weights('b9425_try.h5')"
      ],
      "execution_count": 0,
      "outputs": []
    },
    {
      "cell_type": "code",
      "metadata": {
        "id": "YxvJ34ZkNGSp",
        "colab_type": "code",
        "colab": {}
      },
      "source": [
        "test_x = np.load('test_data.npy')\n",
        "test_x = test_x.reshape(400,64,64,1)\n",
        "res = model.predict(test_x)\n",
        "res = res.argmax(axis=1)\n",
        "#print(res)\n",
        "#res_cm = res_cm.reshape(400,1)\n",
        "#np.save('prediction', res)"
      ],
      "execution_count": 0,
      "outputs": []
    },
    {
      "cell_type": "code",
      "metadata": {
        "id": "pKcuezE0TiUh",
        "colab_type": "code",
        "colab": {}
      },
      "source": [
        "res_str = []\n",
        "\n",
        "for num in res:\n",
        "  if num == 4:\n",
        "    num = 'pass'\n",
        "  elif num == 3:\n",
        "    num = 'nodule'\n",
        "  elif num == 2:\n",
        "    num = 'edge'\n",
        "  elif num == 0:\n",
        "    num = 'crack'\n",
        "  elif num == 1:\n",
        "    num = 'deform'\n",
        "  elif num == 5:\n",
        "    num = 'total_loss'\n",
        "  res_str.append(num)"
      ],
      "execution_count": 0,
      "outputs": []
    },
    {
      "cell_type": "code",
      "metadata": {
        "id": "4XQRTEWaVFeT",
        "colab_type": "code",
        "colab": {
          "base_uri": "https://localhost:8080/",
          "height": 54
        },
        "outputId": "b0bf2d40-d7cb-44d8-f3c6-82999684d155"
      },
      "source": [
        "np.save('prediction', res_str)\n",
        "print(res_str)"
      ],
      "execution_count": 22,
      "outputs": [
        {
          "output_type": "stream",
          "text": [
            "['total_loss', 'nodule', 'pass', 'deform', 'pass', 'deform', 'deform', 'edge', 'pass', 'pass', 'pass', 'pass', 'edge', 'pass', 'pass', 'pass', 'deform', 'pass', 'pass', 'pass', 'pass', 'pass', 'pass', 'pass', 'pass', 'edge', 'pass', 'pass', 'pass', 'pass', 'pass', 'pass', 'nodule', 'pass', 'pass', 'crack', 'crack', 'pass', 'pass', 'pass', 'pass', 'pass', 'pass', 'pass', 'pass', 'pass', 'nodule', 'pass', 'pass', 'edge', 'pass', 'pass', 'edge', 'pass', 'deform', 'pass', 'pass', 'nodule', 'pass', 'pass', 'pass', 'pass', 'total_loss', 'edge', 'pass', 'crack', 'pass', 'pass', 'nodule', 'nodule', 'crack', 'pass', 'edge', 'pass', 'pass', 'total_loss', 'pass', 'pass', 'pass', 'pass', 'crack', 'nodule', 'total_loss', 'pass', 'pass', 'pass', 'pass', 'pass', 'pass', 'pass', 'crack', 'pass', 'pass', 'edge', 'pass', 'edge', 'pass', 'pass', 'nodule', 'pass', 'pass', 'pass', 'pass', 'pass', 'pass', 'pass', 'pass', 'pass', 'pass', 'pass', 'pass', 'deform', 'pass', 'total_loss', 'pass', 'pass', 'edge', 'pass', 'deform', 'total_loss', 'pass', 'pass', 'nodule', 'pass', 'pass', 'total_loss', 'pass', 'total_loss', 'pass', 'pass', 'pass', 'pass', 'pass', 'total_loss', 'total_loss', 'pass', 'crack', 'deform', 'pass', 'pass', 'pass', 'pass', 'deform', 'pass', 'pass', 'edge', 'edge', 'total_loss', 'pass', 'pass', 'total_loss', 'nodule', 'pass', 'nodule', 'pass', 'pass', 'deform', 'pass', 'crack', 'pass', 'pass', 'pass', 'pass', 'edge', 'pass', 'pass', 'pass', 'pass', 'crack', 'pass', 'pass', 'pass', 'pass', 'deform', 'pass', 'pass', 'pass', 'pass', 'pass', 'pass', 'edge', 'edge', 'pass', 'deform', 'pass', 'pass', 'pass', 'pass', 'nodule', 'deform', 'pass', 'nodule', 'nodule', 'deform', 'crack', 'crack', 'pass', 'pass', 'deform', 'deform', 'pass', 'edge', 'pass', 'pass', 'pass', 'pass', 'total_loss', 'deform', 'edge', 'crack', 'deform', 'pass', 'pass', 'crack', 'pass', 'pass', 'total_loss', 'edge', 'pass', 'pass', 'pass', 'pass', 'pass', 'pass', 'pass', 'pass', 'total_loss', 'total_loss', 'pass', 'pass', 'pass', 'pass', 'nodule', 'pass', 'pass', 'pass', 'nodule', 'pass', 'pass', 'deform', 'pass', 'pass', 'pass', 'pass', 'pass', 'nodule', 'pass', 'pass', 'pass', 'pass', 'pass', 'pass', 'pass', 'pass', 'pass', 'pass', 'pass', 'edge', 'pass', 'pass', 'pass', 'pass', 'pass', 'pass', 'pass', 'nodule', 'pass', 'edge', 'total_loss', 'pass', 'total_loss', 'pass', 'pass', 'pass', 'pass', 'deform', 'nodule', 'pass', 'pass', 'edge', 'pass', 'nodule', 'pass', 'deform', 'pass', 'pass', 'pass', 'pass', 'crack', 'pass', 'pass', 'pass', 'pass', 'pass', 'pass', 'pass', 'pass', 'pass', 'pass', 'pass', 'pass', 'pass', 'pass', 'deform', 'nodule', 'pass', 'pass', 'deform', 'pass', 'pass', 'total_loss', 'pass', 'pass', 'crack', 'nodule', 'pass', 'total_loss', 'pass', 'pass', 'deform', 'pass', 'nodule', 'crack', 'pass', 'pass', 'pass', 'pass', 'pass', 'pass', 'pass', 'pass', 'total_loss', 'pass', 'pass', 'total_loss', 'deform', 'pass', 'pass', 'pass', 'pass', 'pass', 'total_loss', 'pass', 'pass', 'total_loss', 'pass', 'pass', 'pass', 'pass', 'edge', 'edge', 'pass', 'pass', 'total_loss', 'pass', 'nodule', 'pass', 'pass', 'pass', 'nodule', 'pass', 'total_loss', 'pass', 'total_loss', 'nodule', 'pass', 'pass', 'pass', 'pass', 'nodule', 'pass', 'pass', 'deform', 'pass', 'nodule', 'pass', 'pass', 'deform', 'pass', 'pass', 'total_loss', 'nodule', 'pass', 'total_loss', 'pass', 'crack', 'total_loss', 'pass', 'nodule', 'nodule', 'pass', 'pass', 'pass', 'pass', 'edge', 'pass', 'pass', 'edge', 'pass', 'pass']\n"
          ],
          "name": "stdout"
        }
      ]
    }
  ]
}